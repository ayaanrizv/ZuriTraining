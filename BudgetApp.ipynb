{
 "cells": [
  {
   "cell_type": "code",
   "execution_count": 24,
   "metadata": {},
   "outputs": [],
   "source": [
    "class Budget:\n",
    "    def __init__(self,name,bal):\n",
    "        self.name = name\n",
    "        self.bal = bal\n",
    "    def deposit(self,deposit):\n",
    "        self.bal += deposit\n",
    "        return (\"Amount deposited successfully\")\n",
    "    def withdraw(self,wthdraw):\n",
    "        if wthdraw <= self.bal:\n",
    "            self.bal -= wthdraw\n",
    "            return (\"Here is your money: ${}\".format(wthdraw))\n",
    "        else:\n",
    "            return (\"Insufficient Balance\")\n",
    "    def balance(self):\n",
    "        return (\"Your balance is: ${}\".format(self.bal))\n",
    "    def transfer_from(self,amount):\n",
    "        if amount <= self.bal:\n",
    "            self.bal -= amount\n",
    "            return amount\n",
    "        else:\n",
    "            print(\"Insufficient Balance\")\n",
    "            return 0\n",
    "    def transfer_to(self,amount):\n",
    "        self.bal += amount\n",
    "        return (\"Amount transferred successfully!\")"
   ]
  },
  {
   "cell_type": "code",
   "execution_count": 25,
   "metadata": {},
   "outputs": [],
   "source": [
    "#instantiation\n",
    "Food = Budget("Food",300)\n",
    "Clothing = Budget("Clothing",200)\n",
    "Entertainment = Budget("Entertainment",500)"
   ]
  },
  {
   "cell_type": "code",
   "execution_count": 26,
   "metadata": {},
   "outputs": [
    {
     "name": "stdout",
     "output_type": "stream",
     "text": [
      "Your balance is: $300\n",
      "Your balance is: $200\n",
      "Your balance is: $500\n"
     ]
    }
   ],
   "source": [
    "#checking balance\n",
    "print(Food.balance())\n",
    "print(Clothing.balance())\n",
    "print(Entertainment.balance())"
   ]
  },
  {
   "cell_type": "code",
   "execution_count": 27,
   "metadata": {},
   "outputs": [
    {
     "name": "stdout",
     "output_type": "stream",
     "text": [
      "Amount deposited successfully\n",
      "Your balance is: $500\n"
     ]
    }
   ],
   "source": [
    "#depositing\n",
    "print(Food.deposit(200))\n",
    "print(Food.balance())"
   ]
  },
  {
   "cell_type": "code",
   "execution_count": 28,
   "metadata": {},
   "outputs": [
    {
     "name": "stdout",
     "output_type": "stream",
     "text": [
      "Here is your money: $75\n",
      "Your balance is: $125\n"
     ]
    }
   ],
   "source": [
    "#withdrawing\n",
    "print(Clothing.withdraw(75))\n",
    "print(Clothing.balance())"
   ]
  },
  {
   "cell_type": "code",
   "execution_count": 29,
   "metadata": {},
   "outputs": [
    {
     "data": {
      "text/plain": [
       "100"
      ]
     },
     "execution_count": 29,
     "metadata": {},
     "output_type": "execute_result"
    }
   ],
   "source": [
    "#transferring from food to clothing\n",
    "amount_to_transfer = Food.transfer_from(100)\n",
    "amount_to_transfer"
   ]
  },
  {
   "cell_type": "code",
   "execution_count": 30,
   "metadata": {},
   "outputs": [
    {
     "name": "stdout",
     "output_type": "stream",
     "text": [
      "Your balance is: $400\n"
     ]
    }
   ],
   "source": [
    "print(Food.balance())"
   ]
  },
  {
   "cell_type": "code",
   "execution_count": 31,
   "metadata": {},
   "outputs": [
    {
     "name": "stdout",
     "output_type": "stream",
     "text": [
      "Amount transferred successfully!\n"
     ]
    }
   ],
   "source": [
    "print(Clothing.transfer_to(amount_to_transfer))"
   ]
  },
  {
   "cell_type": "code",
   "execution_count": 32,
   "metadata": {},
   "outputs": [
    {
     "name": "stdout",
     "output_type": "stream",
     "text": [
      "Your balance is: $225\n"
     ]
    }
   ],
   "source": [
    "print(Clothing.balance())"
   ]
  },
  {
   "cell_type": "code",
   "execution_count": null,
   "metadata": {},
   "outputs": [],
   "source": []
  }
 ],
 "metadata": {
  "kernelspec": {
   "display_name": "Python 3",
   "language": "python",
   "name": "python3"
  },
  "language_info": {
   "codemirror_mode": {
    "name": "ipython",
    "version": 3
   },
   "file_extension": ".py",
   "mimetype": "text/x-python",
   "name": "python",
   "nbconvert_exporter": "python",
   "pygments_lexer": "ipython3",
   "version": "3.7.6"
  }
 },
 "nbformat": 4,
 "nbformat_minor": 4
}
